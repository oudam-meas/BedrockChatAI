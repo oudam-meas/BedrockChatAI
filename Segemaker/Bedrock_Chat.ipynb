{
 "cells": [
  {
   "metadata": {},
   "cell_type": "code",
   "outputs": [],
   "execution_count": null,
   "source": "",
   "id": "515ec882631eee53"
  }
 ],
 "metadata": {},
 "nbformat": 4,
 "nbformat_minor": 5
}
